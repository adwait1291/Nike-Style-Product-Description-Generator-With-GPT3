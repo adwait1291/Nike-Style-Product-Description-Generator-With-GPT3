{
 "cells": [
  {
   "cell_type": "code",
   "execution_count": 33,
   "metadata": {},
   "outputs": [],
   "source": [
    "import pandas as pd"
   ]
  },
  {
   "cell_type": "code",
   "execution_count": 34,
   "metadata": {},
   "outputs": [],
   "source": [
    "# Paste your OpenAI API key here\n",
    "API_KEY = \"YOUR_API_KEY\""
   ]
  },
  {
   "cell_type": "code",
   "execution_count": 35,
   "metadata": {},
   "outputs": [
    {
     "data": {
      "text/html": [
       "<div>\n",
       "<style scoped>\n",
       "    .dataframe tbody tr th:only-of-type {\n",
       "        vertical-align: middle;\n",
       "    }\n",
       "\n",
       "    .dataframe tbody tr th {\n",
       "        vertical-align: top;\n",
       "    }\n",
       "\n",
       "    .dataframe thead th {\n",
       "        text-align: right;\n",
       "    }\n",
       "</style>\n",
       "<table border=\"1\" class=\"dataframe\">\n",
       "  <thead>\n",
       "    <tr style=\"text-align: right;\">\n",
       "      <th></th>\n",
       "      <th>Title</th>\n",
       "      <th>Subtitle</th>\n",
       "      <th>Product Description</th>\n",
       "    </tr>\n",
       "  </thead>\n",
       "  <tbody>\n",
       "    <tr>\n",
       "      <th>0</th>\n",
       "      <td>Nike Air Force 1 '07</td>\n",
       "      <td>Men's Shoes</td>\n",
       "      <td>It doesn't get more legendary than this. Desig...</td>\n",
       "    </tr>\n",
       "    <tr>\n",
       "      <th>1</th>\n",
       "      <td>Nike Air Max Dawn SE</td>\n",
       "      <td>Men's Shoes</td>\n",
       "      <td>Find out what moves you with the Air Max Dawn....</td>\n",
       "    </tr>\n",
       "    <tr>\n",
       "      <th>2</th>\n",
       "      <td>Nike SB Dunk Low Pro Premium</td>\n",
       "      <td>Skate Shoes</td>\n",
       "      <td>Pack your style—on your feet. Bringing a fresh...</td>\n",
       "    </tr>\n",
       "    <tr>\n",
       "      <th>3</th>\n",
       "      <td>Nike Air Force 1 Mid '07 LX</td>\n",
       "      <td>Men's Shoes</td>\n",
       "      <td>The celebrations just keep coming. Unbox the A...</td>\n",
       "    </tr>\n",
       "    <tr>\n",
       "      <th>4</th>\n",
       "      <td>Nike Air Force 1 Mid '07</td>\n",
       "      <td>Men's Shoes</td>\n",
       "      <td>Got your fave colour yet? No worries, the Colo...</td>\n",
       "    </tr>\n",
       "  </tbody>\n",
       "</table>\n",
       "</div>"
      ],
      "text/plain": [
       "                          Title     Subtitle  \\\n",
       "0          Nike Air Force 1 '07  Men's Shoes   \n",
       "1          Nike Air Max Dawn SE  Men's Shoes   \n",
       "2  Nike SB Dunk Low Pro Premium  Skate Shoes   \n",
       "3   Nike Air Force 1 Mid '07 LX  Men's Shoes   \n",
       "4      Nike Air Force 1 Mid '07  Men's Shoes   \n",
       "\n",
       "                                 Product Description  \n",
       "0  It doesn't get more legendary than this. Desig...  \n",
       "1  Find out what moves you with the Air Max Dawn....  \n",
       "2  Pack your style—on your feet. Bringing a fresh...  \n",
       "3  The celebrations just keep coming. Unbox the A...  \n",
       "4  Got your fave colour yet? No worries, the Colo...  "
      ]
     },
     "execution_count": 35,
     "metadata": {},
     "output_type": "execute_result"
    }
   ],
   "source": [
    "# Read the dataset\n",
    "df = pd.read_csv(\"NikeProductDescriptions.csv\")\n",
    "df.head()"
   ]
  },
  {
   "cell_type": "code",
   "execution_count": 36,
   "metadata": {},
   "outputs": [
    {
     "name": "stdout",
     "output_type": "stream",
     "text": [
      "<class 'pandas.core.frame.DataFrame'>\n",
      "RangeIndex: 400 entries, 0 to 399\n",
      "Data columns (total 3 columns):\n",
      " #   Column               Non-Null Count  Dtype \n",
      "---  ------               --------------  ----- \n",
      " 0   Title                400 non-null    object\n",
      " 1   Subtitle             400 non-null    object\n",
      " 2   Product Description  400 non-null    object\n",
      "dtypes: object(3)\n",
      "memory usage: 9.5+ KB\n"
     ]
    }
   ],
   "source": [
    "df.info()"
   ]
  },
  {
   "cell_type": "code",
   "execution_count": 37,
   "metadata": {},
   "outputs": [],
   "source": [
    "# Create Input column with concatenated Title and Subtitle\n",
    "df['Input'] = 'Product: '+ df['Title']+\" - \" + df['Subtitle'] + \"\\n\\nProduct Description:\\n\\n\"\n",
    "\n",
    "# Add \" End\" at the end of Product Descriptions\n",
    "df['Output'] = \" \"+df['Product Description'] + \" END\""
   ]
  },
  {
   "cell_type": "code",
   "execution_count": 38,
   "metadata": {},
   "outputs": [
    {
     "name": "stdout",
     "output_type": "stream",
     "text": [
      "Product: Nike Air Max 97 SE - Men's Shoes\n",
      "\n",
      "Product Description:\n",
      "\n",
      "\n"
     ]
    }
   ],
   "source": [
    "print(df['Input'][25])"
   ]
  },
  {
   "cell_type": "code",
   "execution_count": 39,
   "metadata": {},
   "outputs": [
    {
     "name": "stdout",
     "output_type": "stream",
     "text": [
      " Find out what moves you in the Nike Air Max 97. Our iconic design, originally inspired by Japanese bullet trains, now tells a playful story rooted in our history of moving people. The textile upper, hemp accents and snail-trail stitching nod to our fictional \"NIKE MOVING CO.\". And to top it off on the bottom, visible Nike Air cushioning lets you ride in first-class comfort. So, where next? END\n"
     ]
    }
   ],
   "source": [
    "print(df['Output'][25])"
   ]
  },
  {
   "cell_type": "code",
   "execution_count": 40,
   "metadata": {},
   "outputs": [],
   "source": [
    "df = df[['Input', 'Output']]"
   ]
  },
  {
   "cell_type": "code",
   "execution_count": 41,
   "metadata": {},
   "outputs": [],
   "source": [
    "df.columns = ['prompt','completion']"
   ]
  },
  {
   "cell_type": "code",
   "execution_count": 42,
   "metadata": {},
   "outputs": [],
   "source": [
    "df.to_json(\"prepared_dataset.jsonl\", orient='records', lines=True)"
   ]
  },
  {
   "cell_type": "code",
   "execution_count": 43,
   "metadata": {},
   "outputs": [],
   "source": [
    "!pip install --upgrade openai -q"
   ]
  },
  {
   "cell_type": "code",
   "execution_count": 44,
   "metadata": {},
   "outputs": [],
   "source": [
    "import os\n",
    "os.environ['OPENAI_API_KEY'] = API_KEY"
   ]
  },
  {
   "cell_type": "code",
   "execution_count": 45,
   "metadata": {},
   "outputs": [
    {
     "name": "stdout",
     "output_type": "stream",
     "text": [
      "Analyzing...\n",
      "\n",
      "- Your file contains 400 prompt-completion pairs\n",
      "- All prompts end with suffix `\\n\\nProduct Description:\\n\\n`. This suffix seems very long. Consider replacing with a shorter suffix, such as `\\n\\n###\\n\\n`\n",
      "- All prompts start with prefix `Product: `\n",
      "- All completions end with suffix ` END`\n",
      "\n",
      "No remediations found.\n",
      "\n",
      "You can use your file for fine-tuning:\n",
      "> openai api fine_tunes.create -t \"prepared_dataset.jsonl\"\n",
      "\n",
      "After you’ve fine-tuned a model, remember that your prompt has to end with the indicator string `\\n\\nProduct Description:\\n\\n` for the model to start generating completions, rather than continuing with the prompt. Make sure to include `stop=[\" END\"]` so that the generated texts ends at the expected place.\n",
      "Once your model starts training, it'll approximately take 7.94 minutes to train a `curie` model, and less for `ada` and `babbage`. Queue will approximately take half an hour per job ahead of you.\n"
     ]
    }
   ],
   "source": [
    "!openai tools fine_tunes.prepare_data -f prepared_dataset.jsonl"
   ]
  },
  {
   "cell_type": "code",
   "execution_count": 46,
   "metadata": {},
   "outputs": [],
   "source": [
    "# !openai api fine_tunes.create -t \"prepared_dataset.jsonl\" -m 'davinci'"
   ]
  },
  {
   "cell_type": "code",
   "execution_count": 53,
   "metadata": {},
   "outputs": [
    {
     "name": "stdout",
     "output_type": "stream",
     "text": [
      "[2023-02-19 16:29:51] Created fine-tune: ft-k33aNAr6mHHOh2NoZFpnM1g6\n",
      "[2023-02-19 16:33:30] Fine-tune costs $3.98\n",
      "[2023-02-19 16:33:30] Fine-tune enqueued. Queue number: 1\n",
      "[2023-02-19 16:33:32] Fine-tune started\n",
      "[2023-02-19 16:37:40] Completed epoch 1/4\n",
      "[2023-02-19 16:39:45] Completed epoch 2/4\n",
      "[2023-02-19 16:41:50] Completed epoch 3/4\n",
      "[2023-02-19 16:43:55] Completed epoch 4/4\n",
      "[2023-02-19 16:44:35] Uploaded model: davinci:ft-indian-institute-of-information-technology-dharwad-2023-02-19-11-14-34\n",
      "[2023-02-19 16:44:36] Uploaded result file: file-7qTyOQIM1FmPmiR52tattgxl\n",
      "[2023-02-19 16:44:37] Fine-tune succeeded\n",
      "\n",
      "Job complete! Status: succeeded 🎉\n",
      "Try out your fine-tuned model:\n",
      "\n",
      "openai api completions.create -m davinci:ft-indian-institute-of-information-technology-dharwad-2023-02-19-11-14-34 -p <YOUR_PROMPT>\n"
     ]
    }
   ],
   "source": [
    "!openai api fine_tunes.follow -i \"ft-k33aNArHOh2NoZFpnM1g6\""
   ]
  },
  {
   "cell_type": "code",
   "execution_count": 73,
   "metadata": {},
   "outputs": [],
   "source": [
    "prompt = \"Product:  Nike Dunk Low Retro Premium - Men's Shoes\\n\\nProduct Description:\\n\\n\""
   ]
  },
  {
   "cell_type": "code",
   "execution_count": 74,
   "metadata": {},
   "outputs": [
    {
     "name": "stdout",
     "output_type": "stream",
     "text": [
      "\n",
      "\n",
      "The Nike Dunk Low Premium is a classic basketball shoe that features a leather upper with a padded ankle collar and a rubber outsole with herringbone pattern.\n",
      "\n",
      "Product Details:\n",
      "\n",
      "-Leather upper\n",
      "\n",
      "-Padded ankle collar\n",
      "\n",
      "-Rubber outsole with herringbone pattern\n",
      "\n",
      "-Nike Dunk logo on tongue\n",
      "\n",
      "-Nike Swoosh logo on side\n",
      "\n",
      "-Nike Dunk logo on heel\n",
      "\n",
      "-Nike Air logo on\n"
     ]
    }
   ],
   "source": [
    "# Test original model\n",
    "import openai\n",
    "openai.api_key = API_KEY\n",
    "response = openai.Completion.create(\n",
    "    model=\"davinci\",\n",
    "    prompt=prompt,\n",
    "    max_tokens=100,\n",
    "    temperature=0,\n",
    "    top_p=1,\n",
    "    frequency_penalty=0,\n",
    "    presence_penalty=0,\n",
    "    stop=[\" END\"]\n",
    ")\n",
    "print(response['choices'][0]['text'])"
   ]
  },
  {
   "cell_type": "code",
   "execution_count": 75,
   "metadata": {},
   "outputs": [
    {
     "name": "stdout",
     "output_type": "stream",
     "text": [
      " The Nike Dunk Low Retro Premium delivers the iconic look you love, with premium details that honour the original design. Shiny leather adds a touch of luxury, while the honeycomb pattern on the heel adds a playful touch.\n"
     ]
    }
   ],
   "source": [
    "# Test fine-tuned model\n",
    "import openai\n",
    "openai.api_key = API_KEY\n",
    "response = openai.Completion.create(\n",
    "    model=\"davinci:ft-indian-institute-of-information-technology-dharwad-2023-02-19-11-14-34\",\n",
    "    prompt=prompt,\n",
    "    max_tokens=100,\n",
    "    temperature=0,\n",
    "    top_p=1,\n",
    "    frequency_penalty=0,\n",
    "    presence_penalty=0,\n",
    "    stop=[\" END\"]\n",
    ")\n",
    "print(response['choices'][0]['text'])\n"
   ]
  }
 ],
 "metadata": {
  "kernelspec": {
   "display_name": "base",
   "language": "python",
   "name": "python3"
  },
  "language_info": {
   "codemirror_mode": {
    "name": "ipython",
    "version": 3
   },
   "file_extension": ".py",
   "mimetype": "text/x-python",
   "name": "python",
   "nbconvert_exporter": "python",
   "pygments_lexer": "ipython3",
   "version": "3.9.7"
  },
  "orig_nbformat": 4,
  "vscode": {
   "interpreter": {
    "hash": "9e40f00c4cda9194e6f7bca01dcded706cece6b68773349b5408ba20dabca6da"
   }
  }
 },
 "nbformat": 4,
 "nbformat_minor": 2
}
